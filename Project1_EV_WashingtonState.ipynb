{
 "cells": [
  {
   "cell_type": "markdown",
   "metadata": {},
   "source": [
    "### Overview"
   ]
  },
  {
   "cell_type": "code",
   "execution_count": 1,
   "metadata": {},
   "outputs": [],
   "source": [
    "## The objective of this analysis is the evaluation of the sales of Electric Vehicles (EV's) in the state of Washington.\n",
    "## Sales sensitiviy analyses are done along several dimensions including:\n",
    "    ## Battery Range\n",
    "    ## Vehicle Price\n",
    "    ## Population\n",
    "    ## Distance of Travel (Surface Area of Vehicle Home Location)\n",
    "    ## Availability of Charging Stations outside the home\n",
    "    \n",
    "## More focused analysis will be done on the top five EV makes that currently hold over 80% of the market share\n",
    "\n",
    "## Recommendations will be made to guide further R&D and Product Development decisions regarding features vs range."
   ]
  },
  {
   "cell_type": "markdown",
   "metadata": {},
   "source": [
    "### Sources of Data"
   ]
  },
  {
   "cell_type": "code",
   "execution_count": 2,
   "metadata": {},
   "outputs": [],
   "source": [
    "## Electric Vehicle dataset was obtained at data.gov: https://catalog.data.gov/dataset/electric-vehicle-population-data\n",
    "## Electric Vehicle Charging Stations data: https://chargehub.com/en/countries/united-states/washington/seattle.html\n",
    "## Electric Rates Per City in Washington State: https://www.electricitylocal.com/states/washington\n",
    "## Washington State City and County Demographics: https://www.washington-demographics.com/counties_by_population"
   ]
  },
  {
   "cell_type": "markdown",
   "metadata": {},
   "source": [
    "### Electric Vehicles Categories"
   ]
  },
  {
   "cell_type": "code",
   "execution_count": 3,
   "metadata": {},
   "outputs": [],
   "source": [
    "## There are two types of electric vehicles captured in the dataset from data.gov.  They are:\n",
    "    ## Battery Electric Vehicles - entirely fueled by an battery banks\n",
    "    ## Plug-in Hybrid Electric Vehicle - fueled by batteries and an additional fuel (gasoline, diesel, ethanol)\n",
    "    \n",
    "## This project will focused on BEV's although some comparisons will be made with PHEV data for context definition"
   ]
  },
  {
   "cell_type": "markdown",
   "metadata": {},
   "source": [
    "### Dependencies and Set up"
   ]
  },
  {
   "cell_type": "code",
   "execution_count": 12,
   "metadata": {},
   "outputs": [],
   "source": [
    "%matplotlib inline\n",
    "\n",
    "import matplotlib.pyplot as plt\n",
    "import pandas as pd\n",
    "import scipy.stats as st\n",
    "import numpy as np\n"
   ]
  },
  {
   "cell_type": "code",
   "execution_count": 13,
   "metadata": {},
   "outputs": [],
   "source": [
    "# Reading the datafiles\n",
    "EV_raw_data = pd.read_csv(\"Wash_State_EV_PHEV_Data.csv\")\n",
    "County_demo_data = pd.read_csv(\"Wash_State_County_Demo_Data.csv\")"
   ]
  },
  {
   "cell_type": "code",
   "execution_count": 14,
   "metadata": {},
   "outputs": [
    {
     "data": {
      "text/html": [
       "<div>\n",
       "<style scoped>\n",
       "    .dataframe tbody tr th:only-of-type {\n",
       "        vertical-align: middle;\n",
       "    }\n",
       "\n",
       "    .dataframe tbody tr th {\n",
       "        vertical-align: top;\n",
       "    }\n",
       "\n",
       "    .dataframe thead th {\n",
       "        text-align: right;\n",
       "    }\n",
       "</style>\n",
       "<table border=\"1\" class=\"dataframe\">\n",
       "  <thead>\n",
       "    <tr style=\"text-align: right;\">\n",
       "      <th></th>\n",
       "      <th>City</th>\n",
       "      <th>County</th>\n",
       "      <th>ZIP Code</th>\n",
       "      <th>VIN</th>\n",
       "      <th>Model_Year</th>\n",
       "      <th>Make</th>\n",
       "      <th>Model</th>\n",
       "      <th>EV_Type</th>\n",
       "      <th>Electric_Range</th>\n",
       "      <th>Base_MSRP</th>\n",
       "      <th>Legislative_District</th>\n",
       "      <th>DOL_ID</th>\n",
       "      <th>Vehicle_Location</th>\n",
       "    </tr>\n",
       "  </thead>\n",
       "  <tbody>\n",
       "    <tr>\n",
       "      <th>0</th>\n",
       "      <td>AUBURN</td>\n",
       "      <td>King</td>\n",
       "      <td>98001</td>\n",
       "      <td>5YJYGDEEXL</td>\n",
       "      <td>2020</td>\n",
       "      <td>TESLA</td>\n",
       "      <td>MODEL Y</td>\n",
       "      <td>Battery Electric Vehicle (BEV)</td>\n",
       "      <td>315.0</td>\n",
       "      <td>42190.0</td>\n",
       "      <td>30.0</td>\n",
       "      <td>114288233.0</td>\n",
       "      <td>POINT (-122.266685 47.308313)</td>\n",
       "    </tr>\n",
       "    <tr>\n",
       "      <th>1</th>\n",
       "      <td>AUBURN</td>\n",
       "      <td>King</td>\n",
       "      <td>98001</td>\n",
       "      <td>WVWKR7AU1K</td>\n",
       "      <td>2019</td>\n",
       "      <td>VOLKSWAGEN</td>\n",
       "      <td>E-GOLF</td>\n",
       "      <td>Battery Electric Vehicle (BEV)</td>\n",
       "      <td>125.0</td>\n",
       "      <td>32790.0</td>\n",
       "      <td>47.0</td>\n",
       "      <td>331142717.0</td>\n",
       "      <td>POINT (-122.266685 47.308313)</td>\n",
       "    </tr>\n",
       "    <tr>\n",
       "      <th>2</th>\n",
       "      <td>AUBURN</td>\n",
       "      <td>King</td>\n",
       "      <td>98001</td>\n",
       "      <td>5YJYGDEE1L</td>\n",
       "      <td>2020</td>\n",
       "      <td>TESLA</td>\n",
       "      <td>MODEL Y</td>\n",
       "      <td>Battery Electric Vehicle (BEV)</td>\n",
       "      <td>315.0</td>\n",
       "      <td>42190.0</td>\n",
       "      <td>47.0</td>\n",
       "      <td>112961761.0</td>\n",
       "      <td>POINT (-122.266685 47.308313)</td>\n",
       "    </tr>\n",
       "    <tr>\n",
       "      <th>3</th>\n",
       "      <td>AUBURN</td>\n",
       "      <td>King</td>\n",
       "      <td>98001</td>\n",
       "      <td>1N4AZ1BP2L</td>\n",
       "      <td>2020</td>\n",
       "      <td>NISSAN</td>\n",
       "      <td>LEAF</td>\n",
       "      <td>Battery Electric Vehicle (BEV)</td>\n",
       "      <td>149.0</td>\n",
       "      <td>31620.0</td>\n",
       "      <td>30.0</td>\n",
       "      <td>132473834.0</td>\n",
       "      <td>POINT (-122.266685 47.308313)</td>\n",
       "    </tr>\n",
       "    <tr>\n",
       "      <th>4</th>\n",
       "      <td>AUBURN</td>\n",
       "      <td>King</td>\n",
       "      <td>98001</td>\n",
       "      <td>5YJSA1H11E</td>\n",
       "      <td>2014</td>\n",
       "      <td>TESLA</td>\n",
       "      <td>MODEL S</td>\n",
       "      <td>Battery Electric Vehicle (BEV)</td>\n",
       "      <td>208.0</td>\n",
       "      <td>69900.0</td>\n",
       "      <td>30.0</td>\n",
       "      <td>2267016.0</td>\n",
       "      <td>POINT (-122.266685 47.308313)</td>\n",
       "    </tr>\n",
       "  </tbody>\n",
       "</table>\n",
       "</div>"
      ],
      "text/plain": [
       "     City County  ZIP Code         VIN  Model_Year        Make    Model  \\\n",
       "0  AUBURN   King     98001  5YJYGDEEXL        2020       TESLA  MODEL Y   \n",
       "1  AUBURN   King     98001  WVWKR7AU1K        2019  VOLKSWAGEN   E-GOLF   \n",
       "2  AUBURN   King     98001  5YJYGDEE1L        2020       TESLA  MODEL Y   \n",
       "3  AUBURN   King     98001  1N4AZ1BP2L        2020      NISSAN     LEAF   \n",
       "4  AUBURN   King     98001  5YJSA1H11E        2014       TESLA  MODEL S   \n",
       "\n",
       "                          EV_Type  Electric_Range  Base_MSRP  \\\n",
       "0  Battery Electric Vehicle (BEV)           315.0    42190.0   \n",
       "1  Battery Electric Vehicle (BEV)           125.0    32790.0   \n",
       "2  Battery Electric Vehicle (BEV)           315.0    42190.0   \n",
       "3  Battery Electric Vehicle (BEV)           149.0    31620.0   \n",
       "4  Battery Electric Vehicle (BEV)           208.0    69900.0   \n",
       "\n",
       "   Legislative_District       DOL_ID               Vehicle_Location  \n",
       "0                  30.0  114288233.0  POINT (-122.266685 47.308313)  \n",
       "1                  47.0  331142717.0  POINT (-122.266685 47.308313)  \n",
       "2                  47.0  112961761.0  POINT (-122.266685 47.308313)  \n",
       "3                  30.0  132473834.0  POINT (-122.266685 47.308313)  \n",
       "4                  30.0    2267016.0  POINT (-122.266685 47.308313)  "
      ]
     },
     "execution_count": 14,
     "metadata": {},
     "output_type": "execute_result"
    }
   ],
   "source": [
    "EV_raw_data = pd.DataFrame(EV_raw_data)\n",
    "EV_raw_data.head()"
   ]
  },
  {
   "cell_type": "code",
   "execution_count": 15,
   "metadata": {},
   "outputs": [],
   "source": [
    "# Release unneeded columns from EV_raw_data"
   ]
  },
  {
   "cell_type": "code",
   "execution_count": 16,
   "metadata": {},
   "outputs": [],
   "source": [
    "EV_raw_data.drop([\"VIN\",\"Legislative_District\",\"DOL_ID\",\"Vehicle_Location\"],axis=1,inplace=True)"
   ]
  },
  {
   "cell_type": "code",
   "execution_count": 17,
   "metadata": {},
   "outputs": [
    {
     "data": {
      "text/html": [
       "<div>\n",
       "<style scoped>\n",
       "    .dataframe tbody tr th:only-of-type {\n",
       "        vertical-align: middle;\n",
       "    }\n",
       "\n",
       "    .dataframe tbody tr th {\n",
       "        vertical-align: top;\n",
       "    }\n",
       "\n",
       "    .dataframe thead th {\n",
       "        text-align: right;\n",
       "    }\n",
       "</style>\n",
       "<table border=\"1\" class=\"dataframe\">\n",
       "  <thead>\n",
       "    <tr style=\"text-align: right;\">\n",
       "      <th></th>\n",
       "      <th>City</th>\n",
       "      <th>County</th>\n",
       "      <th>ZIP Code</th>\n",
       "      <th>Model_Year</th>\n",
       "      <th>Make</th>\n",
       "      <th>Model</th>\n",
       "      <th>EV_Type</th>\n",
       "      <th>Electric_Range</th>\n",
       "      <th>Base_MSRP</th>\n",
       "    </tr>\n",
       "  </thead>\n",
       "  <tbody>\n",
       "    <tr>\n",
       "      <th>0</th>\n",
       "      <td>AUBURN</td>\n",
       "      <td>King</td>\n",
       "      <td>98001</td>\n",
       "      <td>2020</td>\n",
       "      <td>TESLA</td>\n",
       "      <td>MODEL Y</td>\n",
       "      <td>Battery Electric Vehicle (BEV)</td>\n",
       "      <td>315.0</td>\n",
       "      <td>42190.0</td>\n",
       "    </tr>\n",
       "    <tr>\n",
       "      <th>1</th>\n",
       "      <td>AUBURN</td>\n",
       "      <td>King</td>\n",
       "      <td>98001</td>\n",
       "      <td>2019</td>\n",
       "      <td>VOLKSWAGEN</td>\n",
       "      <td>E-GOLF</td>\n",
       "      <td>Battery Electric Vehicle (BEV)</td>\n",
       "      <td>125.0</td>\n",
       "      <td>32790.0</td>\n",
       "    </tr>\n",
       "    <tr>\n",
       "      <th>2</th>\n",
       "      <td>AUBURN</td>\n",
       "      <td>King</td>\n",
       "      <td>98001</td>\n",
       "      <td>2020</td>\n",
       "      <td>TESLA</td>\n",
       "      <td>MODEL Y</td>\n",
       "      <td>Battery Electric Vehicle (BEV)</td>\n",
       "      <td>315.0</td>\n",
       "      <td>42190.0</td>\n",
       "    </tr>\n",
       "    <tr>\n",
       "      <th>3</th>\n",
       "      <td>AUBURN</td>\n",
       "      <td>King</td>\n",
       "      <td>98001</td>\n",
       "      <td>2020</td>\n",
       "      <td>NISSAN</td>\n",
       "      <td>LEAF</td>\n",
       "      <td>Battery Electric Vehicle (BEV)</td>\n",
       "      <td>149.0</td>\n",
       "      <td>31620.0</td>\n",
       "    </tr>\n",
       "    <tr>\n",
       "      <th>4</th>\n",
       "      <td>AUBURN</td>\n",
       "      <td>King</td>\n",
       "      <td>98001</td>\n",
       "      <td>2014</td>\n",
       "      <td>TESLA</td>\n",
       "      <td>MODEL S</td>\n",
       "      <td>Battery Electric Vehicle (BEV)</td>\n",
       "      <td>208.0</td>\n",
       "      <td>69900.0</td>\n",
       "    </tr>\n",
       "    <tr>\n",
       "      <th>...</th>\n",
       "      <td>...</td>\n",
       "      <td>...</td>\n",
       "      <td>...</td>\n",
       "      <td>...</td>\n",
       "      <td>...</td>\n",
       "      <td>...</td>\n",
       "      <td>...</td>\n",
       "      <td>...</td>\n",
       "      <td>...</td>\n",
       "    </tr>\n",
       "    <tr>\n",
       "      <th>64427</th>\n",
       "      <td>CLARKSTON</td>\n",
       "      <td>Asotin</td>\n",
       "      <td>99403</td>\n",
       "      <td>2016</td>\n",
       "      <td>HYUNDAI</td>\n",
       "      <td>SONATA PLUG-IN HYBRID</td>\n",
       "      <td>Plug-in Hybrid Electric Vehicle (PHEV)</td>\n",
       "      <td>27.0</td>\n",
       "      <td>34600.0</td>\n",
       "    </tr>\n",
       "    <tr>\n",
       "      <th>64428</th>\n",
       "      <td>CLARKSTON</td>\n",
       "      <td>Asotin</td>\n",
       "      <td>99403</td>\n",
       "      <td>2012</td>\n",
       "      <td>TOYOTA</td>\n",
       "      <td>PRIUS</td>\n",
       "      <td>Plug-in Hybrid Electric Vehicle (PHEV)</td>\n",
       "      <td>6.0</td>\n",
       "      <td>32000.0</td>\n",
       "    </tr>\n",
       "    <tr>\n",
       "      <th>64429</th>\n",
       "      <td>CLARKSTON</td>\n",
       "      <td>Asotin</td>\n",
       "      <td>99403</td>\n",
       "      <td>2020</td>\n",
       "      <td>TOYOTA</td>\n",
       "      <td>PRIUS PRIME</td>\n",
       "      <td>Plug-in Hybrid Electric Vehicle (PHEV)</td>\n",
       "      <td>25.0</td>\n",
       "      <td>27600.0</td>\n",
       "    </tr>\n",
       "    <tr>\n",
       "      <th>64430</th>\n",
       "      <td>CLARKSTON</td>\n",
       "      <td>Asotin</td>\n",
       "      <td>99403</td>\n",
       "      <td>2014</td>\n",
       "      <td>CHEVROLET</td>\n",
       "      <td>VOLT</td>\n",
       "      <td>Plug-in Hybrid Electric Vehicle (PHEV)</td>\n",
       "      <td>38.0</td>\n",
       "      <td>34185.0</td>\n",
       "    </tr>\n",
       "    <tr>\n",
       "      <th>64431</th>\n",
       "      <td>CLARKSTON</td>\n",
       "      <td>Asotin</td>\n",
       "      <td>99403</td>\n",
       "      <td>2017</td>\n",
       "      <td>CHEVROLET</td>\n",
       "      <td>VOLT</td>\n",
       "      <td>Plug-in Hybrid Electric Vehicle (PHEV)</td>\n",
       "      <td>53.0</td>\n",
       "      <td>33220.0</td>\n",
       "    </tr>\n",
       "  </tbody>\n",
       "</table>\n",
       "<p>64432 rows × 9 columns</p>\n",
       "</div>"
      ],
      "text/plain": [
       "            City  County  ZIP Code  Model_Year        Make  \\\n",
       "0         AUBURN    King     98001        2020       TESLA   \n",
       "1         AUBURN    King     98001        2019  VOLKSWAGEN   \n",
       "2         AUBURN    King     98001        2020       TESLA   \n",
       "3         AUBURN    King     98001        2020      NISSAN   \n",
       "4         AUBURN    King     98001        2014       TESLA   \n",
       "...          ...     ...       ...         ...         ...   \n",
       "64427  CLARKSTON  Asotin     99403        2016     HYUNDAI   \n",
       "64428  CLARKSTON  Asotin     99403        2012      TOYOTA   \n",
       "64429  CLARKSTON  Asotin     99403        2020      TOYOTA   \n",
       "64430  CLARKSTON  Asotin     99403        2014   CHEVROLET   \n",
       "64431  CLARKSTON  Asotin     99403        2017   CHEVROLET   \n",
       "\n",
       "                       Model                                 EV_Type  \\\n",
       "0                    MODEL Y          Battery Electric Vehicle (BEV)   \n",
       "1                     E-GOLF          Battery Electric Vehicle (BEV)   \n",
       "2                    MODEL Y          Battery Electric Vehicle (BEV)   \n",
       "3                       LEAF          Battery Electric Vehicle (BEV)   \n",
       "4                    MODEL S          Battery Electric Vehicle (BEV)   \n",
       "...                      ...                                     ...   \n",
       "64427  SONATA PLUG-IN HYBRID  Plug-in Hybrid Electric Vehicle (PHEV)   \n",
       "64428                  PRIUS  Plug-in Hybrid Electric Vehicle (PHEV)   \n",
       "64429            PRIUS PRIME  Plug-in Hybrid Electric Vehicle (PHEV)   \n",
       "64430                   VOLT  Plug-in Hybrid Electric Vehicle (PHEV)   \n",
       "64431                   VOLT  Plug-in Hybrid Electric Vehicle (PHEV)   \n",
       "\n",
       "       Electric_Range  Base_MSRP  \n",
       "0               315.0    42190.0  \n",
       "1               125.0    32790.0  \n",
       "2               315.0    42190.0  \n",
       "3               149.0    31620.0  \n",
       "4               208.0    69900.0  \n",
       "...               ...        ...  \n",
       "64427            27.0    34600.0  \n",
       "64428             6.0    32000.0  \n",
       "64429            25.0    27600.0  \n",
       "64430            38.0    34185.0  \n",
       "64431            53.0    33220.0  \n",
       "\n",
       "[64432 rows x 9 columns]"
      ]
     },
     "execution_count": 17,
     "metadata": {},
     "output_type": "execute_result"
    }
   ],
   "source": [
    "EV_raw_data"
   ]
  },
  {
   "cell_type": "code",
   "execution_count": 18,
   "metadata": {},
   "outputs": [],
   "source": [
    "# Compare Cars by Type of Electric Vehicle\n",
    "    # BoxPlot of Range\n",
    "    # BoxPlot of Price"
   ]
  },
  {
   "cell_type": "code",
   "execution_count": 27,
   "metadata": {},
   "outputs": [
    {
     "data": {
      "image/png": "[encoded data removed]",
      "text/plain": [
       "<Figure size 1440x720 with 1 Axes>"
      ]
     },
     "metadata": {
      "needs_background": "light"
     },
     "output_type": "display_data"
    }
   ],
   "source": [
    "# BoxPlot of Driving Range Based on Vehicle Type\n",
    "\n",
    "red_square = dict(markerfacecolor = 'r', marker ='s')\n",
    "\n",
    "EV_raw_data.boxplot(\"Electric_Range\", by=\"EV_Type\", figsize = (20,10), notch = True, flierprops = red_square)\n",
    "\n",
    "plt.title(\"Driving Ranges by Type of Electric Vehicle\",fontdict ={\"fontsize\":24})\n",
    "plt.xlabel(\"Electric Vehicle Type\", fontdict={\"fontsize\":22})\n",
    "plt.ylabel(\"Range in miles\", fontdict={\"fontsize\":22})\n",
    "plt.tight_layout(pad = 2.0, w_pad = 1.5, h_pad = 2.0)\n",
    "\n",
    "plt.show()\n"
   ]
  },
  {
   "cell_type": "code",
   "execution_count": 29,
   "metadata": {},
   "outputs": [
    {
     "data": {
      "image/png": "[encoded data removed]",
      "text/plain": [
       "<Figure size 1440x720 with 1 Axes>"
      ]
     },
     "metadata": {
      "needs_background": "light"
     },
     "output_type": "display_data"
    }
   ],
   "source": [
    "# BoxPlot of Price Range Based on Vehicle Type\n",
    "\n",
    "blue_square = dict(markerfacecolor = 'b', marker ='s')\n",
    "\n",
    "EV_raw_data.boxplot(\"Base_MSRP\", by=\"EV_Type\", figsize = (20,10), notch = True, flierprops = blue_square)\n",
    "\n",
    "plt.title(\"MSRP by Type of Electric Vehicle\",fontdict ={\"fontsize\":24})\n",
    "plt.xlabel(\"Electric Vehicle Type\", fontdict={\"fontsize\":22})\n",
    "plt.ylabel(\"Price ($)\", fontdict={\"fontsize\":22})\n",
    "plt.tight_layout(pad = 2.0, w_pad = 1.5, h_pad = 2.0)\n",
    "\n",
    "plt.show()\n"
   ]
  },
  {
   "cell_type": "code",
   "execution_count": null,
   "metadata": {},
   "outputs": [],
   "source": []
  },
  {
   "cell_type": "code",
   "execution_count": null,
   "metadata": {},
   "outputs": [],
   "source": [
    "# Dependencies and Setup\n",
    "\n",
    "\n",
    "# Study data files\n",
    "mouse_metadata_path = \"data/Mouse_metadata.csv\"\n",
    "study_results_path = \"data/Study_results.csv\"\n",
    "\n",
    "# Read the mouse data and the study results\n",
    "mouse_metadata = pd.read_csv(mouse_metadata_path)\n",
    "study_results = pd.read_csv(study_results_path)\n"
   ]
  },
  {
   "cell_type": "code",
   "execution_count": null,
   "metadata": {},
   "outputs": [],
   "source": [
    "pd.options.display.float_format = \"{:,.3f}\".format"
   ]
  },
  {
   "cell_type": "code",
   "execution_count": null,
   "metadata": {},
   "outputs": [],
   "source": [
    "# This program examines the eficacy in treating SCC tumors using several drug treatments including Capomulin\n",
    "# This analysis was completed by F. A. Barillas"
   ]
  },
  {
   "cell_type": "code",
   "execution_count": null,
   "metadata": {},
   "outputs": [],
   "source": [
    "# Verifiying Dataframe structures\n",
    "mouse_metadata.head()\n"
   ]
  },
  {
   "cell_type": "code",
   "execution_count": null,
   "metadata": {},
   "outputs": [],
   "source": [
    "mouse_metadata.columns = mouse_metadata.columns.str.replace(\" \",\"_\")\n",
    "mouse_metadata.columns"
   ]
  },
  {
   "cell_type": "code",
   "execution_count": null,
   "metadata": {},
   "outputs": [],
   "source": [
    "study_results.columns = study_results.columns.str.replace(\" \",\"_\")\n",
    "study_results.columns"
   ]
  },
  {
   "cell_type": "code",
   "execution_count": null,
   "metadata": {},
   "outputs": [],
   "source": [
    "# Checking the number of mice.\n",
    "len(mouse_metadata.Mouse_ID)"
   ]
  },
  {
   "cell_type": "code",
   "execution_count": null,
   "metadata": {},
   "outputs": [],
   "source": [
    "study_results.shape"
   ]
  },
  {
   "cell_type": "code",
   "execution_count": null,
   "metadata": {},
   "outputs": [],
   "source": [
    "# Getting the duplicate mice by ID number that shows up for Mouse ID and Timepoint. \n",
    "study_results.duplicated(subset=['Mouse_ID','Timepoint']).sum()\n"
   ]
  },
  {
   "cell_type": "code",
   "execution_count": null,
   "metadata": {},
   "outputs": [],
   "source": [
    "# Optional: Get all the data for the duplicate mouse ID. \n",
    "duplicated_results = study_results.loc[study_results.duplicated(subset=['Mouse_ID','Timepoint'])]\n",
    "duplicated_results"
   ]
  },
  {
   "cell_type": "code",
   "execution_count": null,
   "metadata": {},
   "outputs": [],
   "source": [
    "# Create a clean DataFrame by dropping the duplicate mouse by its ID.\n",
    "clean_study_results = study_results.drop_duplicates(subset=['Mouse_ID','Timepoint'])\n",
    "clean_study_results"
   ]
  },
  {
   "cell_type": "code",
   "execution_count": null,
   "metadata": {},
   "outputs": [],
   "source": [
    "# Checking the number of mice in the clean DataFrame.\n",
    "clean_study_results.duplicated(subset=['Mouse_ID','Timepoint']).sum()"
   ]
  },
  {
   "cell_type": "code",
   "execution_count": null,
   "metadata": {},
   "outputs": [],
   "source": [
    "len(clean_study_results['Mouse_ID'])"
   ]
  },
  {
   "cell_type": "code",
   "execution_count": null,
   "metadata": {},
   "outputs": [],
   "source": [
    "# Merge Mouse Data with Study Data\n",
    "clean_study_results = pd.merge(mouse_metadata, clean_study_results, how = \"left\", on = \"Mouse_ID\")\n",
    "clean_study_results"
   ]
  },
  {
   "cell_type": "markdown",
   "metadata": {},
   "source": [
    "# CLEAN STUDY RESULTS DATAFRAME WITHOUT DUPLICATES"
   ]
  },
  {
   "cell_type": "code",
   "execution_count": null,
   "metadata": {},
   "outputs": [],
   "source": [
    "clean_study_results.rename(columns={'Weight_(g)':'Weight_g', 'Tumor_Volume_(mm3)':'Tumor_Volume_mm3'}, inplace =True)\n",
    "clean_study_results"
   ]
  },
  {
   "cell_type": "code",
   "execution_count": null,
   "metadata": {},
   "outputs": [],
   "source": [
    "male_mice = (clean_study_results.Sex ==\"Male\").sum()\n",
    "male_mice\n"
   ]
  },
  {
   "cell_type": "code",
   "execution_count": null,
   "metadata": {},
   "outputs": [],
   "source": [
    "female_mice = (clean_study_results.Sex ==\"Female\").sum()\n",
    "female_mice\n"
   ]
  },
  {
   "cell_type": "markdown",
   "metadata": {},
   "source": [
    "## Summary Statistics"
   ]
  },
  {
   "cell_type": "code",
   "execution_count": null,
   "metadata": {},
   "outputs": [],
   "source": [
    "# Generate a summary statistics table of mean, median, variance, standard deviation, and SEM of the tumor volume for \n",
    "# each regimen\n",
    "\n",
    "# Use groupby and summary statistical methods to calculate the following properties of each drug regimen: \n",
    "# mean, median, variance, standard deviation, and SEM of the tumor volume. \n",
    "# Assemble the resulting series into a single summary dataframe.\n"
   ]
  },
  {
   "cell_type": "code",
   "execution_count": null,
   "metadata": {},
   "outputs": [],
   "source": [
    "# Generate a summary statistics table of mean, median, variance, standard deviation, and SEM of the tumor volume for \n",
    "# each regimen"
   ]
  },
  {
   "cell_type": "code",
   "execution_count": null,
   "metadata": {},
   "outputs": [],
   "source": [
    "# Undertanding Trials Per Regimen\n",
    "Trials_Per_Regimen = clean_study_results.groupby('Drug_Regimen').Drug_Regimen.count()\n"
   ]
  },
  {
   "cell_type": "code",
   "execution_count": null,
   "metadata": {},
   "outputs": [],
   "source": [
    "Mean_Tumor_Volume = clean_study_results.groupby('Drug_Regimen').Tumor_Volume_mm3.mean()\n"
   ]
  },
  {
   "cell_type": "code",
   "execution_count": null,
   "metadata": {},
   "outputs": [],
   "source": [
    "Median_Tumor_Volume = clean_study_results.groupby('Drug_Regimen').Tumor_Volume_mm3.median()\n"
   ]
  },
  {
   "cell_type": "code",
   "execution_count": null,
   "metadata": {},
   "outputs": [],
   "source": [
    "Variance_Tumor_Volume = clean_study_results.groupby('Drug_Regimen').Tumor_Volume_mm3.var()\n"
   ]
  },
  {
   "cell_type": "code",
   "execution_count": null,
   "metadata": {},
   "outputs": [],
   "source": [
    "StDev_Tumor_Volume = clean_study_results.groupby('Drug_Regimen').Tumor_Volume_mm3.std()\n"
   ]
  },
  {
   "cell_type": "code",
   "execution_count": null,
   "metadata": {},
   "outputs": [],
   "source": [
    "SEM_Tumor_Volume = clean_study_results.groupby('Drug_Regimen').Tumor_Volume_mm3.sem()\n"
   ]
  },
  {
   "cell_type": "code",
   "execution_count": null,
   "metadata": {},
   "outputs": [],
   "source": [
    "# Using the aggregation method, produce the same summary statistics in a single line\n",
    "summary_stats_df=pd.concat([Trials_Per_Regimen, Mean_Tumor_Volume, Median_Tumor_Volume, Variance_Tumor_Volume, StDev_Tumor_Volume, SEM_Tumor_Volume], axis =1)\n",
    "summary_stats_df.columns=['Trials','Average','Median','Variance','StDev','SEM']              \n"
   ]
  },
  {
   "cell_type": "code",
   "execution_count": null,
   "metadata": {
    "scrolled": true
   },
   "outputs": [],
   "source": [
    "summary_stats_df.reset_index(inplace = True)"
   ]
  },
  {
   "cell_type": "markdown",
   "metadata": {},
   "source": [
    "# SUMMARY STATISTICS BY DRUG REGIMEN"
   ]
  },
  {
   "cell_type": "code",
   "execution_count": null,
   "metadata": {},
   "outputs": [],
   "source": [
    "summary_stats_df"
   ]
  },
  {
   "cell_type": "markdown",
   "metadata": {},
   "source": [
    "## Bar and Pie Charts"
   ]
  },
  {
   "cell_type": "code",
   "execution_count": null,
   "metadata": {},
   "outputs": [],
   "source": [
    "# Generate a bar plot showing the total number of measurements taken on each drug regimen using pandas.\n",
    "\n"
   ]
  },
  {
   "cell_type": "code",
   "execution_count": null,
   "metadata": {},
   "outputs": [],
   "source": [
    "# Generate a bar plot showing the total number of measurements taken on each drug regimen using pyplot.\n",
    "summary_stats_df.sort_values('Trials', inplace = True, ascending = False)\n",
    "\n",
    "x_axis = summary_stats_df['Drug_Regimen']\n",
    "y_values=summary_stats_df['Trials']\n",
    "\n",
    "tick_locations = [value for value in x_axis]\n",
    "\n",
    "fig1 = plt.figure(figsize =(12,6))\n",
    "\n",
    "plt.bar(x_axis, y_values, color = 'b', alpha = 0.75, align = \"center\", width = 0.5)\n",
    "plt.title(\"Trials Per Drug Regimen\")\n",
    "plt.xlabel(\"Drug Regimen\")\n",
    "plt.ylabel(\"Number of Trials\")\n",
    "\n",
    "plt.xlim(-0.5, len(x_axis)-0.5)\n",
    "\n",
    "plt.grid(color='k', alpha = 0.15)\n",
    "plt.tight_layout(pad=0.8, w_pad=1.4, h_pad=1.0)\n"
   ]
  },
  {
   "cell_type": "code",
   "execution_count": null,
   "metadata": {},
   "outputs": [],
   "source": [
    "categories = [male_mice,female_mice]\n",
    "categories"
   ]
  },
  {
   "cell_type": "code",
   "execution_count": null,
   "metadata": {},
   "outputs": [],
   "source": [
    "# Generate a pie plot showing the distribution of female versus male mice using pyplot\n",
    "fig2 = plt.figure()\n",
    "fig2.suptitle('Mice Gender Split', fontsize = 14, fontweight = 'bold')\n",
    "\n",
    "\n",
    "labels = [\"Male Mice\", \"Female Mice\" ]\n",
    "categories = [male_mice, female_mice]\n",
    "colors = [\"y\",\"c\"]\n",
    "explode = (0.1,0)\n",
    "\n",
    "plt.pie(categories, explode, labels, colors, autopct='%1.1f%%', shadow= True, startangle = 45)\n",
    "plt.axis(\"Equal\")\n",
    "plt.tight_layout()\n",
    "plt.show()\n"
   ]
  },
  {
   "cell_type": "code",
   "execution_count": null,
   "metadata": {},
   "outputs": [],
   "source": [
    "# Generate a pie plot showing the distribution of female versus male mice using pandas\n",
    "\n"
   ]
  },
  {
   "cell_type": "markdown",
   "metadata": {},
   "source": [
    "## Quartiles, Outliers and Boxplots"
   ]
  },
  {
   "cell_type": "code",
   "execution_count": null,
   "metadata": {},
   "outputs": [],
   "source": [
    "# Calculate the final tumor volume of each mouse across four of the treatment regimens:  \n",
    "# Capomulin, Ramicane, Infubinol, and Ceftamin\n",
    "\n",
    "Capomulin_df = clean_study_results[clean_study_results.Drug_Regimen == \"Capomulin\"]\n",
    "Ramicane_df = clean_study_results[clean_study_results.Drug_Regimen == \"Ramicane\"]\n",
    "Infubinol_df = clean_study_results[clean_study_results.Drug_Regimen == \"Infubinol\"]\n",
    "Ceftamin_df = clean_study_results[clean_study_results.Drug_Regimen == \"Ceftamin\"]"
   ]
  },
  {
   "cell_type": "code",
   "execution_count": null,
   "metadata": {},
   "outputs": [],
   "source": []
  },
  {
   "cell_type": "code",
   "execution_count": null,
   "metadata": {},
   "outputs": [],
   "source": []
  },
  {
   "cell_type": "code",
   "execution_count": null,
   "metadata": {},
   "outputs": [],
   "source": [
    "# Start by getting the last (greatest) timepoint for each mouse\n",
    "\n",
    "\n",
    "# Merge this group df with the original dataframe to get the tumor volume at the last timepoint"
   ]
  },
  {
   "cell_type": "code",
   "execution_count": null,
   "metadata": {},
   "outputs": [],
   "source": [
    "# Put treatments into a list for for loop (and later for plot labels)\n",
    "\n",
    "\n",
    "# Create empty list to fill with tumor vol data (for plotting)\n",
    "\n",
    "\n",
    "# Calculate the IQR and quantitatively determine if there are any potential outliers. \n",
    "\n",
    "    \n",
    "    # Locate the rows which contain mice on each drug and get the tumor volumes\n",
    "    \n",
    "    \n",
    "    # add subset \n",
    "    \n",
    "    \n",
    "    # Determine outliers using upper and lower bounds\n",
    "    "
   ]
  },
  {
   "cell_type": "code",
   "execution_count": null,
   "metadata": {},
   "outputs": [],
   "source": [
    "# Generate a box plot of the final tumor volume of each mouse across four regimens of interest\n"
   ]
  },
  {
   "cell_type": "markdown",
   "metadata": {},
   "source": [
    "## Line and Scatter Plots"
   ]
  },
  {
   "cell_type": "code",
   "execution_count": null,
   "metadata": {},
   "outputs": [],
   "source": [
    "# Generate a line plot of tumor volume vs. time point for a mouse treated with Capomulin\n"
   ]
  },
  {
   "cell_type": "code",
   "execution_count": null,
   "metadata": {},
   "outputs": [],
   "source": [
    "# Generate a scatter plot of average tumor volume vs. mouse weight for the Capomulin regimen\n"
   ]
  },
  {
   "cell_type": "markdown",
   "metadata": {},
   "source": [
    "## Correlation and Regression"
   ]
  },
  {
   "cell_type": "code",
   "execution_count": null,
   "metadata": {},
   "outputs": [],
   "source": [
    "# Calculate the correlation coefficient and linear regression model \n",
    "# for mouse weight and average tumor volume for the Capomulin regimen\n"
   ]
  },
  {
   "cell_type": "code",
   "execution_count": null,
   "metadata": {},
   "outputs": [],
   "source": []
  }
 ],
 "metadata": {
  "anaconda-cloud": {},
  "kernelspec": {
   "display_name": "Python [conda env:PythonData] *",
   "language": "python",
   "name": "conda-env-PythonData-py"
  },
  "language_info": {
   "codemirror_mode": {
    "name": "ipython",
    "version": 3
   },
   "file_extension": ".py",
   "mimetype": "text/x-python",
   "name": "python",
   "nbconvert_exporter": "python",
   "pygments_lexer": "ipython3",
   "version": "3.6.10"
  }
 },
 "nbformat": 4,
 "nbformat_minor": 4
}
