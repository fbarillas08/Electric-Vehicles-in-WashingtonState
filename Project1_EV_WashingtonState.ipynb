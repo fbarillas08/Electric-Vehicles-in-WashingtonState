{
 "cells": [
  {
   "cell_type": "markdown",
   "metadata": {},
   "source": [
    "### Overview"
   ]
  },
  {
   "cell_type": "code",
   "execution_count": 1,
   "metadata": {},
   "outputs": [],
   "source": [
    "## The objective of this analysis is the evaluation of the sales of Electric Vehicles (EV's) in the state of Washington.\n",
    "## Sales sensitiviy analyses are done along several dimensions including:\n",
    "    ## Battery Range\n",
    "    ## Vehicle Price\n",
    "    ## Population\n",
    "    ## Distance of Travel (Surface Area of Vehicle Home Location)\n",
    "    ## Availability of Charging Stations outside the home\n",
    "    \n",
    "## More focused analysis will be done on the top five EV makes that currently hold over 80% of the market share\n",
    "\n",
    "## Recommendations will be made to guide further R&D and Product Development decisions regarding features vs range."
   ]
  },
  {
   "cell_type": "markdown",
   "metadata": {},
   "source": [
    "### Sources of Data"
   ]
  },
  {
   "cell_type": "code",
   "execution_count": 2,
   "metadata": {},
   "outputs": [],
   "source": [
    "## Electric Vehicle dataset was obtained at data.gov: https://catalog.data.gov/dataset/electric-vehicle-population-data\n",
    "## Electric Vehicle Charging Stations data: https://chargehub.com/en/countries/united-states/washington/seattle.html\n",
    "## Electric Rates Per City in Washington State: https://www.electricitylocal.com/states/washington\n",
    "## Washington State City and County Demographics: https://www.washington-demographics.com/counties_by_population"
   ]
  },
  {
   "cell_type": "markdown",
   "metadata": {},
   "source": [
    "### Electric Vehicles Categories"
   ]
  },
  {
   "cell_type": "code",
   "execution_count": 3,
   "metadata": {},
   "outputs": [],
   "source": [
    "## There are two types of electric vehicles captured in the dataset from data.gov.  They are:\n",
    "    ## Battery Electric Vehicles - entirely fueled by an battery banks\n",
    "    ## Plug-in Hybrid Electric Vehicle - fueled by batteries and an additional fuel (gasoline, diesel, ethanol)\n",
    "    \n",
    "## This project will focused on BEV's although some comparisons will be made with PHEV data for context definition"
   ]
  },
  {
   "cell_type": "markdown",
   "metadata": {},
   "source": [
    "### Dependencies and Set up"
   ]
  },
  {
   "cell_type": "code",
   "execution_count": 44,
   "metadata": {},
   "outputs": [],
   "source": [
    "%matplotlib inline\n",
    "\n",
    "import matplotlib.pyplot as plt\n",
    "import pandas as pd\n",
    "import scipy.stats as st\n",
    "import numpy as np\n",
    "\n",
    "pd.options.display.float_format = \"{:,.3f}\".format"
   ]
  },
  {
   "cell_type": "code",
   "execution_count": 45,
   "metadata": {},
   "outputs": [],
   "source": [
    "# Reading the datafiles\n",
    "EV_raw_data = pd.read_csv(\"Wash_State_EV_PHEV_Data.csv\")\n",
    "County_demo_data = pd.read_csv(\"Wash_State_County_Demo_Data.csv\")"
   ]
  },
  {
   "cell_type": "code",
   "execution_count": 46,
   "metadata": {},
   "outputs": [
    {
     "data": {
      "text/html": [
       "<div>\n",
       "<style scoped>\n",
       "    .dataframe tbody tr th:only-of-type {\n",
       "        vertical-align: middle;\n",
       "    }\n",
       "\n",
       "    .dataframe tbody tr th {\n",
       "        vertical-align: top;\n",
       "    }\n",
       "\n",
       "    .dataframe thead th {\n",
       "        text-align: right;\n",
       "    }\n",
       "</style>\n",
       "<table border=\"1\" class=\"dataframe\">\n",
       "  <thead>\n",
       "    <tr style=\"text-align: right;\">\n",
       "      <th></th>\n",
       "      <th>City</th>\n",
       "      <th>County</th>\n",
       "      <th>ZIP Code</th>\n",
       "      <th>VIN</th>\n",
       "      <th>Model_Year</th>\n",
       "      <th>Make</th>\n",
       "      <th>Model</th>\n",
       "      <th>EV_Type</th>\n",
       "      <th>Electric_Range</th>\n",
       "      <th>Base_MSRP</th>\n",
       "      <th>Legislative_District</th>\n",
       "      <th>DOL_ID</th>\n",
       "      <th>Vehicle_Location</th>\n",
       "    </tr>\n",
       "  </thead>\n",
       "  <tbody>\n",
       "    <tr>\n",
       "      <th>0</th>\n",
       "      <td>AUBURN</td>\n",
       "      <td>King</td>\n",
       "      <td>98001</td>\n",
       "      <td>5YJYGDEEXL</td>\n",
       "      <td>2020</td>\n",
       "      <td>TESLA</td>\n",
       "      <td>MODEL Y</td>\n",
       "      <td>Battery Electric Vehicle (BEV)</td>\n",
       "      <td>315.000</td>\n",
       "      <td>42,190.000</td>\n",
       "      <td>30.000</td>\n",
       "      <td>114,288,233.000</td>\n",
       "      <td>POINT (-122.266685 47.308313)</td>\n",
       "    </tr>\n",
       "    <tr>\n",
       "      <th>1</th>\n",
       "      <td>AUBURN</td>\n",
       "      <td>King</td>\n",
       "      <td>98001</td>\n",
       "      <td>WVWKR7AU1K</td>\n",
       "      <td>2019</td>\n",
       "      <td>VOLKSWAGEN</td>\n",
       "      <td>E-GOLF</td>\n",
       "      <td>Battery Electric Vehicle (BEV)</td>\n",
       "      <td>125.000</td>\n",
       "      <td>32,790.000</td>\n",
       "      <td>47.000</td>\n",
       "      <td>331,142,717.000</td>\n",
       "      <td>POINT (-122.266685 47.308313)</td>\n",
       "    </tr>\n",
       "    <tr>\n",
       "      <th>2</th>\n",
       "      <td>AUBURN</td>\n",
       "      <td>King</td>\n",
       "      <td>98001</td>\n",
       "      <td>5YJYGDEE1L</td>\n",
       "      <td>2020</td>\n",
       "      <td>TESLA</td>\n",
       "      <td>MODEL Y</td>\n",
       "      <td>Battery Electric Vehicle (BEV)</td>\n",
       "      <td>315.000</td>\n",
       "      <td>42,190.000</td>\n",
       "      <td>47.000</td>\n",
       "      <td>112,961,761.000</td>\n",
       "      <td>POINT (-122.266685 47.308313)</td>\n",
       "    </tr>\n",
       "    <tr>\n",
       "      <th>3</th>\n",
       "      <td>AUBURN</td>\n",
       "      <td>King</td>\n",
       "      <td>98001</td>\n",
       "      <td>1N4AZ1BP2L</td>\n",
       "      <td>2020</td>\n",
       "      <td>NISSAN</td>\n",
       "      <td>LEAF</td>\n",
       "      <td>Battery Electric Vehicle (BEV)</td>\n",
       "      <td>149.000</td>\n",
       "      <td>31,620.000</td>\n",
       "      <td>30.000</td>\n",
       "      <td>132,473,834.000</td>\n",
       "      <td>POINT (-122.266685 47.308313)</td>\n",
       "    </tr>\n",
       "    <tr>\n",
       "      <th>4</th>\n",
       "      <td>AUBURN</td>\n",
       "      <td>King</td>\n",
       "      <td>98001</td>\n",
       "      <td>5YJSA1H11E</td>\n",
       "      <td>2014</td>\n",
       "      <td>TESLA</td>\n",
       "      <td>MODEL S</td>\n",
       "      <td>Battery Electric Vehicle (BEV)</td>\n",
       "      <td>208.000</td>\n",
       "      <td>69,900.000</td>\n",
       "      <td>30.000</td>\n",
       "      <td>2,267,016.000</td>\n",
       "      <td>POINT (-122.266685 47.308313)</td>\n",
       "    </tr>\n",
       "  </tbody>\n",
       "</table>\n",
       "</div>"
      ],
      "text/plain": [
       "     City County  ZIP Code         VIN  Model_Year        Make    Model  \\\n",
       "0  AUBURN   King     98001  5YJYGDEEXL        2020       TESLA  MODEL Y   \n",
       "1  AUBURN   King     98001  WVWKR7AU1K        2019  VOLKSWAGEN   E-GOLF   \n",
       "2  AUBURN   King     98001  5YJYGDEE1L        2020       TESLA  MODEL Y   \n",
       "3  AUBURN   King     98001  1N4AZ1BP2L        2020      NISSAN     LEAF   \n",
       "4  AUBURN   King     98001  5YJSA1H11E        2014       TESLA  MODEL S   \n",
       "\n",
       "                          EV_Type  Electric_Range  Base_MSRP  \\\n",
       "0  Battery Electric Vehicle (BEV)         315.000 42,190.000   \n",
       "1  Battery Electric Vehicle (BEV)         125.000 32,790.000   \n",
       "2  Battery Electric Vehicle (BEV)         315.000 42,190.000   \n",
       "3  Battery Electric Vehicle (BEV)         149.000 31,620.000   \n",
       "4  Battery Electric Vehicle (BEV)         208.000 69,900.000   \n",
       "\n",
       "   Legislative_District          DOL_ID               Vehicle_Location  \n",
       "0                30.000 114,288,233.000  POINT (-122.266685 47.308313)  \n",
       "1                47.000 331,142,717.000  POINT (-122.266685 47.308313)  \n",
       "2                47.000 112,961,761.000  POINT (-122.266685 47.308313)  \n",
       "3                30.000 132,473,834.000  POINT (-122.266685 47.308313)  \n",
       "4                30.000   2,267,016.000  POINT (-122.266685 47.308313)  "
      ]
     },
     "execution_count": 46,
     "metadata": {},
     "output_type": "execute_result"
    }
   ],
   "source": [
    "EV_raw_data = pd.DataFrame(EV_raw_data)\n",
    "EV_raw_data.head()"
   ]
  },
  {
   "cell_type": "code",
   "execution_count": 47,
   "metadata": {},
   "outputs": [],
   "source": [
    "# Release unneeded columns from EV_raw_data"
   ]
  },
  {
   "cell_type": "code",
   "execution_count": 48,
   "metadata": {},
   "outputs": [],
   "source": [
    "EV_raw_data.drop([\"VIN\",\"Legislative_District\",\"DOL_ID\",\"Vehicle_Location\"],axis=1,inplace=True)"
   ]
  },
  {
   "cell_type": "code",
   "execution_count": 49,
   "metadata": {},
   "outputs": [
    {
     "data": {
      "text/html": [
       "<div>\n",
       "<style scoped>\n",
       "    .dataframe tbody tr th:only-of-type {\n",
       "        vertical-align: middle;\n",
       "    }\n",
       "\n",
       "    .dataframe tbody tr th {\n",
       "        vertical-align: top;\n",
       "    }\n",
       "\n",
       "    .dataframe thead th {\n",
       "        text-align: right;\n",
       "    }\n",
       "</style>\n",
       "<table border=\"1\" class=\"dataframe\">\n",
       "  <thead>\n",
       "    <tr style=\"text-align: right;\">\n",
       "      <th></th>\n",
       "      <th>City</th>\n",
       "      <th>County</th>\n",
       "      <th>ZIP Code</th>\n",
       "      <th>Model_Year</th>\n",
       "      <th>Make</th>\n",
       "      <th>Model</th>\n",
       "      <th>EV_Type</th>\n",
       "      <th>Electric_Range</th>\n",
       "      <th>Base_MSRP</th>\n",
       "    </tr>\n",
       "  </thead>\n",
       "  <tbody>\n",
       "    <tr>\n",
       "      <th>0</th>\n",
       "      <td>AUBURN</td>\n",
       "      <td>King</td>\n",
       "      <td>98001</td>\n",
       "      <td>2020</td>\n",
       "      <td>TESLA</td>\n",
       "      <td>MODEL Y</td>\n",
       "      <td>Battery Electric Vehicle (BEV)</td>\n",
       "      <td>315.000</td>\n",
       "      <td>42,190.000</td>\n",
       "    </tr>\n",
       "    <tr>\n",
       "      <th>1</th>\n",
       "      <td>AUBURN</td>\n",
       "      <td>King</td>\n",
       "      <td>98001</td>\n",
       "      <td>2019</td>\n",
       "      <td>VOLKSWAGEN</td>\n",
       "      <td>E-GOLF</td>\n",
       "      <td>Battery Electric Vehicle (BEV)</td>\n",
       "      <td>125.000</td>\n",
       "      <td>32,790.000</td>\n",
       "    </tr>\n",
       "    <tr>\n",
       "      <th>2</th>\n",
       "      <td>AUBURN</td>\n",
       "      <td>King</td>\n",
       "      <td>98001</td>\n",
       "      <td>2020</td>\n",
       "      <td>TESLA</td>\n",
       "      <td>MODEL Y</td>\n",
       "      <td>Battery Electric Vehicle (BEV)</td>\n",
       "      <td>315.000</td>\n",
       "      <td>42,190.000</td>\n",
       "    </tr>\n",
       "    <tr>\n",
       "      <th>3</th>\n",
       "      <td>AUBURN</td>\n",
       "      <td>King</td>\n",
       "      <td>98001</td>\n",
       "      <td>2020</td>\n",
       "      <td>NISSAN</td>\n",
       "      <td>LEAF</td>\n",
       "      <td>Battery Electric Vehicle (BEV)</td>\n",
       "      <td>149.000</td>\n",
       "      <td>31,620.000</td>\n",
       "    </tr>\n",
       "    <tr>\n",
       "      <th>4</th>\n",
       "      <td>AUBURN</td>\n",
       "      <td>King</td>\n",
       "      <td>98001</td>\n",
       "      <td>2014</td>\n",
       "      <td>TESLA</td>\n",
       "      <td>MODEL S</td>\n",
       "      <td>Battery Electric Vehicle (BEV)</td>\n",
       "      <td>208.000</td>\n",
       "      <td>69,900.000</td>\n",
       "    </tr>\n",
       "    <tr>\n",
       "      <th>...</th>\n",
       "      <td>...</td>\n",
       "      <td>...</td>\n",
       "      <td>...</td>\n",
       "      <td>...</td>\n",
       "      <td>...</td>\n",
       "      <td>...</td>\n",
       "      <td>...</td>\n",
       "      <td>...</td>\n",
       "      <td>...</td>\n",
       "    </tr>\n",
       "    <tr>\n",
       "      <th>64427</th>\n",
       "      <td>CLARKSTON</td>\n",
       "      <td>Asotin</td>\n",
       "      <td>99403</td>\n",
       "      <td>2016</td>\n",
       "      <td>HYUNDAI</td>\n",
       "      <td>SONATA PLUG-IN HYBRID</td>\n",
       "      <td>Plug-in Hybrid Electric Vehicle (PHEV)</td>\n",
       "      <td>27.000</td>\n",
       "      <td>34,600.000</td>\n",
       "    </tr>\n",
       "    <tr>\n",
       "      <th>64428</th>\n",
       "      <td>CLARKSTON</td>\n",
       "      <td>Asotin</td>\n",
       "      <td>99403</td>\n",
       "      <td>2012</td>\n",
       "      <td>TOYOTA</td>\n",
       "      <td>PRIUS</td>\n",
       "      <td>Plug-in Hybrid Electric Vehicle (PHEV)</td>\n",
       "      <td>6.000</td>\n",
       "      <td>32,000.000</td>\n",
       "    </tr>\n",
       "    <tr>\n",
       "      <th>64429</th>\n",
       "      <td>CLARKSTON</td>\n",
       "      <td>Asotin</td>\n",
       "      <td>99403</td>\n",
       "      <td>2020</td>\n",
       "      <td>TOYOTA</td>\n",
       "      <td>PRIUS PRIME</td>\n",
       "      <td>Plug-in Hybrid Electric Vehicle (PHEV)</td>\n",
       "      <td>25.000</td>\n",
       "      <td>27,600.000</td>\n",
       "    </tr>\n",
       "    <tr>\n",
       "      <th>64430</th>\n",
       "      <td>CLARKSTON</td>\n",
       "      <td>Asotin</td>\n",
       "      <td>99403</td>\n",
       "      <td>2014</td>\n",
       "      <td>CHEVROLET</td>\n",
       "      <td>VOLT</td>\n",
       "      <td>Plug-in Hybrid Electric Vehicle (PHEV)</td>\n",
       "      <td>38.000</td>\n",
       "      <td>34,185.000</td>\n",
       "    </tr>\n",
       "    <tr>\n",
       "      <th>64431</th>\n",
       "      <td>CLARKSTON</td>\n",
       "      <td>Asotin</td>\n",
       "      <td>99403</td>\n",
       "      <td>2017</td>\n",
       "      <td>CHEVROLET</td>\n",
       "      <td>VOLT</td>\n",
       "      <td>Plug-in Hybrid Electric Vehicle (PHEV)</td>\n",
       "      <td>53.000</td>\n",
       "      <td>33,220.000</td>\n",
       "    </tr>\n",
       "  </tbody>\n",
       "</table>\n",
       "<p>64432 rows × 9 columns</p>\n",
       "</div>"
      ],
      "text/plain": [
       "            City  County  ZIP Code  Model_Year        Make  \\\n",
       "0         AUBURN    King     98001        2020       TESLA   \n",
       "1         AUBURN    King     98001        2019  VOLKSWAGEN   \n",
       "2         AUBURN    King     98001        2020       TESLA   \n",
       "3         AUBURN    King     98001        2020      NISSAN   \n",
       "4         AUBURN    King     98001        2014       TESLA   \n",
       "...          ...     ...       ...         ...         ...   \n",
       "64427  CLARKSTON  Asotin     99403        2016     HYUNDAI   \n",
       "64428  CLARKSTON  Asotin     99403        2012      TOYOTA   \n",
       "64429  CLARKSTON  Asotin     99403        2020      TOYOTA   \n",
       "64430  CLARKSTON  Asotin     99403        2014   CHEVROLET   \n",
       "64431  CLARKSTON  Asotin     99403        2017   CHEVROLET   \n",
       "\n",
       "                       Model                                 EV_Type  \\\n",
       "0                    MODEL Y          Battery Electric Vehicle (BEV)   \n",
       "1                     E-GOLF          Battery Electric Vehicle (BEV)   \n",
       "2                    MODEL Y          Battery Electric Vehicle (BEV)   \n",
       "3                       LEAF          Battery Electric Vehicle (BEV)   \n",
       "4                    MODEL S          Battery Electric Vehicle (BEV)   \n",
       "...                      ...                                     ...   \n",
       "64427  SONATA PLUG-IN HYBRID  Plug-in Hybrid Electric Vehicle (PHEV)   \n",
       "64428                  PRIUS  Plug-in Hybrid Electric Vehicle (PHEV)   \n",
       "64429            PRIUS PRIME  Plug-in Hybrid Electric Vehicle (PHEV)   \n",
       "64430                   VOLT  Plug-in Hybrid Electric Vehicle (PHEV)   \n",
       "64431                   VOLT  Plug-in Hybrid Electric Vehicle (PHEV)   \n",
       "\n",
       "       Electric_Range  Base_MSRP  \n",
       "0             315.000 42,190.000  \n",
       "1             125.000 32,790.000  \n",
       "2             315.000 42,190.000  \n",
       "3             149.000 31,620.000  \n",
       "4             208.000 69,900.000  \n",
       "...               ...        ...  \n",
       "64427          27.000 34,600.000  \n",
       "64428           6.000 32,000.000  \n",
       "64429          25.000 27,600.000  \n",
       "64430          38.000 34,185.000  \n",
       "64431          53.000 33,220.000  \n",
       "\n",
       "[64432 rows x 9 columns]"
      ]
     },
     "execution_count": 49,
     "metadata": {},
     "output_type": "execute_result"
    }
   ],
   "source": [
    "EV_raw_data"
   ]
  },
  {
   "cell_type": "code",
   "execution_count": 50,
   "metadata": {},
   "outputs": [],
   "source": [
    "# Compare Cars by Type of Electric Vehicle\n",
    "    # BoxPlot of Range\n",
    "    # BoxPlot of Price"
   ]
  },
  {
   "cell_type": "code",
   "execution_count": 51,
   "metadata": {},
   "outputs": [
    {
     "data": {
      "image/png": "[encoded data removed]",
      "text/plain": [
       "<Figure size 1440x720 with 1 Axes>"
      ]
     },
     "metadata": {
      "needs_background": "light"
     },
     "output_type": "display_data"
    }
   ],
   "source": [
    "# BoxPlot of Driving Range Based on Vehicle Type\n",
    "\n",
    "red_square = dict(markerfacecolor = 'r', marker ='s')\n",
    "\n",
    "EV_raw_data.boxplot(\"Electric_Range\", by=\"EV_Type\", figsize = (20,10), notch = True, flierprops = red_square)\n",
    "\n",
    "plt.title(\"Driving Ranges by Type of Electric Vehicle\",fontdict ={\"fontsize\":24})\n",
    "plt.xlabel(\"Electric Vehicle Type\", fontdict={\"fontsize\":22})\n",
    "plt.ylabel(\"Range in miles\", fontdict={\"fontsize\":22})\n",
    "plt.tight_layout(pad = 2.0, w_pad = 1.5, h_pad = 2.0)\n",
    "\n",
    "plt.show()\n"
   ]
  },
  {
   "cell_type": "code",
   "execution_count": 52,
   "metadata": {},
   "outputs": [
    {
     "data": {
      "image/png": "[encoded data removed]",
      "text/plain": [
       "<Figure size 1440x720 with 1 Axes>"
      ]
     },
     "metadata": {
      "needs_background": "light"
     },
     "output_type": "display_data"
    }
   ],
   "source": [
    "# BoxPlot of Price Range Based on Vehicle Type\n",
    "\n",
    "blue_square = dict(markerfacecolor = 'b', marker ='s')\n",
    "\n",
    "EV_raw_data.boxplot(\"Base_MSRP\", by=\"EV_Type\", figsize = (20,10), notch = True, flierprops = blue_square)\n",
    "\n",
    "plt.title(\"MSRP by Type of Electric Vehicle\",fontdict ={\"fontsize\":24})\n",
    "plt.xlabel(\"Electric Vehicle Type\", fontdict={\"fontsize\":22})\n",
    "plt.ylabel(\"Price ($)\", fontdict={\"fontsize\":22})\n",
    "plt.tight_layout(pad = 2.0, w_pad = 1.5, h_pad = 2.0)\n",
    "\n",
    "plt.show()\n"
   ]
  },
  {
   "cell_type": "markdown",
   "metadata": {},
   "source": [
    "### Separate Battery Electric Vehicles and Plug-in Hybrid Electric Vehicles into two datasets"
   ]
  },
  {
   "cell_type": "code",
   "execution_count": 53,
   "metadata": {},
   "outputs": [
    {
     "data": {
      "text/html": [
       "<div>\n",
       "<style scoped>\n",
       "    .dataframe tbody tr th:only-of-type {\n",
       "        vertical-align: middle;\n",
       "    }\n",
       "\n",
       "    .dataframe tbody tr th {\n",
       "        vertical-align: top;\n",
       "    }\n",
       "\n",
       "    .dataframe thead th {\n",
       "        text-align: right;\n",
       "    }\n",
       "</style>\n",
       "<table border=\"1\" class=\"dataframe\">\n",
       "  <thead>\n",
       "    <tr style=\"text-align: right;\">\n",
       "      <th></th>\n",
       "      <th>City</th>\n",
       "      <th>County</th>\n",
       "      <th>ZIP Code</th>\n",
       "      <th>Model_Year</th>\n",
       "      <th>Make</th>\n",
       "      <th>Model</th>\n",
       "      <th>EV_Type</th>\n",
       "      <th>Electric_Range</th>\n",
       "      <th>Base_MSRP</th>\n",
       "    </tr>\n",
       "  </thead>\n",
       "  <tbody>\n",
       "    <tr>\n",
       "      <th>0</th>\n",
       "      <td>AUBURN</td>\n",
       "      <td>King</td>\n",
       "      <td>98001</td>\n",
       "      <td>2020</td>\n",
       "      <td>TESLA</td>\n",
       "      <td>MODEL Y</td>\n",
       "      <td>Battery Electric Vehicle (BEV)</td>\n",
       "      <td>315.000</td>\n",
       "      <td>42,190.000</td>\n",
       "    </tr>\n",
       "    <tr>\n",
       "      <th>1</th>\n",
       "      <td>AUBURN</td>\n",
       "      <td>King</td>\n",
       "      <td>98001</td>\n",
       "      <td>2019</td>\n",
       "      <td>VOLKSWAGEN</td>\n",
       "      <td>E-GOLF</td>\n",
       "      <td>Battery Electric Vehicle (BEV)</td>\n",
       "      <td>125.000</td>\n",
       "      <td>32,790.000</td>\n",
       "    </tr>\n",
       "    <tr>\n",
       "      <th>2</th>\n",
       "      <td>AUBURN</td>\n",
       "      <td>King</td>\n",
       "      <td>98001</td>\n",
       "      <td>2020</td>\n",
       "      <td>TESLA</td>\n",
       "      <td>MODEL Y</td>\n",
       "      <td>Battery Electric Vehicle (BEV)</td>\n",
       "      <td>315.000</td>\n",
       "      <td>42,190.000</td>\n",
       "    </tr>\n",
       "    <tr>\n",
       "      <th>3</th>\n",
       "      <td>AUBURN</td>\n",
       "      <td>King</td>\n",
       "      <td>98001</td>\n",
       "      <td>2020</td>\n",
       "      <td>NISSAN</td>\n",
       "      <td>LEAF</td>\n",
       "      <td>Battery Electric Vehicle (BEV)</td>\n",
       "      <td>149.000</td>\n",
       "      <td>31,620.000</td>\n",
       "    </tr>\n",
       "    <tr>\n",
       "      <th>4</th>\n",
       "      <td>AUBURN</td>\n",
       "      <td>King</td>\n",
       "      <td>98001</td>\n",
       "      <td>2014</td>\n",
       "      <td>TESLA</td>\n",
       "      <td>MODEL S</td>\n",
       "      <td>Battery Electric Vehicle (BEV)</td>\n",
       "      <td>208.000</td>\n",
       "      <td>69,900.000</td>\n",
       "    </tr>\n",
       "    <tr>\n",
       "      <th>...</th>\n",
       "      <td>...</td>\n",
       "      <td>...</td>\n",
       "      <td>...</td>\n",
       "      <td>...</td>\n",
       "      <td>...</td>\n",
       "      <td>...</td>\n",
       "      <td>...</td>\n",
       "      <td>...</td>\n",
       "      <td>...</td>\n",
       "    </tr>\n",
       "    <tr>\n",
       "      <th>46000</th>\n",
       "      <td>CLARKSTON</td>\n",
       "      <td>Asotin</td>\n",
       "      <td>99403</td>\n",
       "      <td>2013</td>\n",
       "      <td>NISSAN</td>\n",
       "      <td>LEAF</td>\n",
       "      <td>Battery Electric Vehicle (BEV)</td>\n",
       "      <td>75.000</td>\n",
       "      <td>28,800.000</td>\n",
       "    </tr>\n",
       "    <tr>\n",
       "      <th>46001</th>\n",
       "      <td>CLARKSTON</td>\n",
       "      <td>Asotin</td>\n",
       "      <td>99403</td>\n",
       "      <td>2018</td>\n",
       "      <td>TESLA</td>\n",
       "      <td>MODEL X</td>\n",
       "      <td>Battery Electric Vehicle (BEV)</td>\n",
       "      <td>238.000</td>\n",
       "      <td>79,500.000</td>\n",
       "    </tr>\n",
       "    <tr>\n",
       "      <th>46002</th>\n",
       "      <td>CLARKSTON</td>\n",
       "      <td>Asotin</td>\n",
       "      <td>99403</td>\n",
       "      <td>2020</td>\n",
       "      <td>TESLA</td>\n",
       "      <td>MODEL 3</td>\n",
       "      <td>Battery Electric Vehicle (BEV)</td>\n",
       "      <td>322.000</td>\n",
       "      <td>39,190.000</td>\n",
       "    </tr>\n",
       "    <tr>\n",
       "      <th>46003</th>\n",
       "      <td>CLARKSTON</td>\n",
       "      <td>Asotin</td>\n",
       "      <td>99403</td>\n",
       "      <td>2018</td>\n",
       "      <td>NISSAN</td>\n",
       "      <td>LEAF</td>\n",
       "      <td>Battery Electric Vehicle (BEV)</td>\n",
       "      <td>151.000</td>\n",
       "      <td>29,990.000</td>\n",
       "    </tr>\n",
       "    <tr>\n",
       "      <th>46004</th>\n",
       "      <td>CLARKSTON</td>\n",
       "      <td>Asotin</td>\n",
       "      <td>99404</td>\n",
       "      <td>2017</td>\n",
       "      <td>KIA</td>\n",
       "      <td>SOUL</td>\n",
       "      <td>Battery Electric Vehicle (BEV)</td>\n",
       "      <td>93.000</td>\n",
       "      <td>32,250.000</td>\n",
       "    </tr>\n",
       "  </tbody>\n",
       "</table>\n",
       "<p>46005 rows × 9 columns</p>\n",
       "</div>"
      ],
      "text/plain": [
       "            City  County  ZIP Code  Model_Year        Make    Model  \\\n",
       "0         AUBURN    King     98001        2020       TESLA  MODEL Y   \n",
       "1         AUBURN    King     98001        2019  VOLKSWAGEN   E-GOLF   \n",
       "2         AUBURN    King     98001        2020       TESLA  MODEL Y   \n",
       "3         AUBURN    King     98001        2020      NISSAN     LEAF   \n",
       "4         AUBURN    King     98001        2014       TESLA  MODEL S   \n",
       "...          ...     ...       ...         ...         ...      ...   \n",
       "46000  CLARKSTON  Asotin     99403        2013      NISSAN     LEAF   \n",
       "46001  CLARKSTON  Asotin     99403        2018       TESLA  MODEL X   \n",
       "46002  CLARKSTON  Asotin     99403        2020       TESLA  MODEL 3   \n",
       "46003  CLARKSTON  Asotin     99403        2018      NISSAN     LEAF   \n",
       "46004  CLARKSTON  Asotin     99404        2017         KIA     SOUL   \n",
       "\n",
       "                              EV_Type  Electric_Range  Base_MSRP  \n",
       "0      Battery Electric Vehicle (BEV)         315.000 42,190.000  \n",
       "1      Battery Electric Vehicle (BEV)         125.000 32,790.000  \n",
       "2      Battery Electric Vehicle (BEV)         315.000 42,190.000  \n",
       "3      Battery Electric Vehicle (BEV)         149.000 31,620.000  \n",
       "4      Battery Electric Vehicle (BEV)         208.000 69,900.000  \n",
       "...                               ...             ...        ...  \n",
       "46000  Battery Electric Vehicle (BEV)          75.000 28,800.000  \n",
       "46001  Battery Electric Vehicle (BEV)         238.000 79,500.000  \n",
       "46002  Battery Electric Vehicle (BEV)         322.000 39,190.000  \n",
       "46003  Battery Electric Vehicle (BEV)         151.000 29,990.000  \n",
       "46004  Battery Electric Vehicle (BEV)          93.000 32,250.000  \n",
       "\n",
       "[46005 rows x 9 columns]"
      ]
     },
     "execution_count": 53,
     "metadata": {},
     "output_type": "execute_result"
    }
   ],
   "source": [
    "BEV_df = EV_raw_data[EV_raw_data.EV_Type== \"Battery Electric Vehicle (BEV)\"]\n",
    "BEV_df"
   ]
  },
  {
   "cell_type": "code",
   "execution_count": 54,
   "metadata": {},
   "outputs": [
    {
     "data": {
      "text/html": [
       "<div>\n",
       "<style scoped>\n",
       "    .dataframe tbody tr th:only-of-type {\n",
       "        vertical-align: middle;\n",
       "    }\n",
       "\n",
       "    .dataframe tbody tr th {\n",
       "        vertical-align: top;\n",
       "    }\n",
       "\n",
       "    .dataframe thead th {\n",
       "        text-align: right;\n",
       "    }\n",
       "</style>\n",
       "<table border=\"1\" class=\"dataframe\">\n",
       "  <thead>\n",
       "    <tr style=\"text-align: right;\">\n",
       "      <th></th>\n",
       "      <th>City</th>\n",
       "      <th>County</th>\n",
       "      <th>ZIP Code</th>\n",
       "      <th>Model_Year</th>\n",
       "      <th>Make</th>\n",
       "      <th>Model</th>\n",
       "      <th>EV_Type</th>\n",
       "      <th>Electric_Range</th>\n",
       "      <th>Base_MSRP</th>\n",
       "    </tr>\n",
       "  </thead>\n",
       "  <tbody>\n",
       "    <tr>\n",
       "      <th>46005</th>\n",
       "      <td>BELLEVUE</td>\n",
       "      <td>King</td>\n",
       "      <td>98015</td>\n",
       "      <td>2017</td>\n",
       "      <td>BMW</td>\n",
       "      <td>X5 XDRIVE40E</td>\n",
       "      <td>Plug-in Hybrid Electric Vehicle (PHEV)</td>\n",
       "      <td>14.000</td>\n",
       "      <td>63,200.000</td>\n",
       "    </tr>\n",
       "    <tr>\n",
       "      <th>46006</th>\n",
       "      <td>PAWCATUCK</td>\n",
       "      <td>New London</td>\n",
       "      <td>6379</td>\n",
       "      <td>2014</td>\n",
       "      <td>CHEVROLET</td>\n",
       "      <td>VOLT</td>\n",
       "      <td>Plug-in Hybrid Electric Vehicle (PHEV)</td>\n",
       "      <td>38.000</td>\n",
       "      <td>34,185.000</td>\n",
       "    </tr>\n",
       "    <tr>\n",
       "      <th>46007</th>\n",
       "      <td>HADDONFIELD</td>\n",
       "      <td>Camden</td>\n",
       "      <td>8033</td>\n",
       "      <td>2019</td>\n",
       "      <td>HYUNDAI</td>\n",
       "      <td>IONIQ PLUG-IN HYBRID</td>\n",
       "      <td>Plug-in Hybrid Electric Vehicle (PHEV)</td>\n",
       "      <td>29.000</td>\n",
       "      <td>25,350.000</td>\n",
       "    </tr>\n",
       "    <tr>\n",
       "      <th>46008</th>\n",
       "      <td>SILVER SPRING</td>\n",
       "      <td>Montgomery</td>\n",
       "      <td>20906</td>\n",
       "      <td>2015</td>\n",
       "      <td>FORD</td>\n",
       "      <td>FUSION ENERGI</td>\n",
       "      <td>Plug-in Hybrid Electric Vehicle (PHEV)</td>\n",
       "      <td>19.000</td>\n",
       "      <td>34,800.000</td>\n",
       "    </tr>\n",
       "    <tr>\n",
       "      <th>46009</th>\n",
       "      <td>ANNAPOLIS</td>\n",
       "      <td>Anne Arundel</td>\n",
       "      <td>21401</td>\n",
       "      <td>2012</td>\n",
       "      <td>TOYOTA</td>\n",
       "      <td>PRIUS</td>\n",
       "      <td>Plug-in Hybrid Electric Vehicle (PHEV)</td>\n",
       "      <td>6.000</td>\n",
       "      <td>32,000.000</td>\n",
       "    </tr>\n",
       "    <tr>\n",
       "      <th>...</th>\n",
       "      <td>...</td>\n",
       "      <td>...</td>\n",
       "      <td>...</td>\n",
       "      <td>...</td>\n",
       "      <td>...</td>\n",
       "      <td>...</td>\n",
       "      <td>...</td>\n",
       "      <td>...</td>\n",
       "      <td>...</td>\n",
       "    </tr>\n",
       "    <tr>\n",
       "      <th>64427</th>\n",
       "      <td>CLARKSTON</td>\n",
       "      <td>Asotin</td>\n",
       "      <td>99403</td>\n",
       "      <td>2016</td>\n",
       "      <td>HYUNDAI</td>\n",
       "      <td>SONATA PLUG-IN HYBRID</td>\n",
       "      <td>Plug-in Hybrid Electric Vehicle (PHEV)</td>\n",
       "      <td>27.000</td>\n",
       "      <td>34,600.000</td>\n",
       "    </tr>\n",
       "    <tr>\n",
       "      <th>64428</th>\n",
       "      <td>CLARKSTON</td>\n",
       "      <td>Asotin</td>\n",
       "      <td>99403</td>\n",
       "      <td>2012</td>\n",
       "      <td>TOYOTA</td>\n",
       "      <td>PRIUS</td>\n",
       "      <td>Plug-in Hybrid Electric Vehicle (PHEV)</td>\n",
       "      <td>6.000</td>\n",
       "      <td>32,000.000</td>\n",
       "    </tr>\n",
       "    <tr>\n",
       "      <th>64429</th>\n",
       "      <td>CLARKSTON</td>\n",
       "      <td>Asotin</td>\n",
       "      <td>99403</td>\n",
       "      <td>2020</td>\n",
       "      <td>TOYOTA</td>\n",
       "      <td>PRIUS PRIME</td>\n",
       "      <td>Plug-in Hybrid Electric Vehicle (PHEV)</td>\n",
       "      <td>25.000</td>\n",
       "      <td>27,600.000</td>\n",
       "    </tr>\n",
       "    <tr>\n",
       "      <th>64430</th>\n",
       "      <td>CLARKSTON</td>\n",
       "      <td>Asotin</td>\n",
       "      <td>99403</td>\n",
       "      <td>2014</td>\n",
       "      <td>CHEVROLET</td>\n",
       "      <td>VOLT</td>\n",
       "      <td>Plug-in Hybrid Electric Vehicle (PHEV)</td>\n",
       "      <td>38.000</td>\n",
       "      <td>34,185.000</td>\n",
       "    </tr>\n",
       "    <tr>\n",
       "      <th>64431</th>\n",
       "      <td>CLARKSTON</td>\n",
       "      <td>Asotin</td>\n",
       "      <td>99403</td>\n",
       "      <td>2017</td>\n",
       "      <td>CHEVROLET</td>\n",
       "      <td>VOLT</td>\n",
       "      <td>Plug-in Hybrid Electric Vehicle (PHEV)</td>\n",
       "      <td>53.000</td>\n",
       "      <td>33,220.000</td>\n",
       "    </tr>\n",
       "  </tbody>\n",
       "</table>\n",
       "<p>18427 rows × 9 columns</p>\n",
       "</div>"
      ],
      "text/plain": [
       "                City        County  ZIP Code  Model_Year       Make  \\\n",
       "46005       BELLEVUE          King     98015        2017        BMW   \n",
       "46006      PAWCATUCK    New London      6379        2014  CHEVROLET   \n",
       "46007    HADDONFIELD        Camden      8033        2019    HYUNDAI   \n",
       "46008  SILVER SPRING    Montgomery     20906        2015       FORD   \n",
       "46009      ANNAPOLIS  Anne Arundel     21401        2012     TOYOTA   \n",
       "...              ...           ...       ...         ...        ...   \n",
       "64427      CLARKSTON        Asotin     99403        2016    HYUNDAI   \n",
       "64428      CLARKSTON        Asotin     99403        2012     TOYOTA   \n",
       "64429      CLARKSTON        Asotin     99403        2020     TOYOTA   \n",
       "64430      CLARKSTON        Asotin     99403        2014  CHEVROLET   \n",
       "64431      CLARKSTON        Asotin     99403        2017  CHEVROLET   \n",
       "\n",
       "                       Model                                 EV_Type  \\\n",
       "46005           X5 XDRIVE40E  Plug-in Hybrid Electric Vehicle (PHEV)   \n",
       "46006                   VOLT  Plug-in Hybrid Electric Vehicle (PHEV)   \n",
       "46007   IONIQ PLUG-IN HYBRID  Plug-in Hybrid Electric Vehicle (PHEV)   \n",
       "46008          FUSION ENERGI  Plug-in Hybrid Electric Vehicle (PHEV)   \n",
       "46009                  PRIUS  Plug-in Hybrid Electric Vehicle (PHEV)   \n",
       "...                      ...                                     ...   \n",
       "64427  SONATA PLUG-IN HYBRID  Plug-in Hybrid Electric Vehicle (PHEV)   \n",
       "64428                  PRIUS  Plug-in Hybrid Electric Vehicle (PHEV)   \n",
       "64429            PRIUS PRIME  Plug-in Hybrid Electric Vehicle (PHEV)   \n",
       "64430                   VOLT  Plug-in Hybrid Electric Vehicle (PHEV)   \n",
       "64431                   VOLT  Plug-in Hybrid Electric Vehicle (PHEV)   \n",
       "\n",
       "       Electric_Range  Base_MSRP  \n",
       "46005          14.000 63,200.000  \n",
       "46006          38.000 34,185.000  \n",
       "46007          29.000 25,350.000  \n",
       "46008          19.000 34,800.000  \n",
       "46009           6.000 32,000.000  \n",
       "...               ...        ...  \n",
       "64427          27.000 34,600.000  \n",
       "64428           6.000 32,000.000  \n",
       "64429          25.000 27,600.000  \n",
       "64430          38.000 34,185.000  \n",
       "64431          53.000 33,220.000  \n",
       "\n",
       "[18427 rows x 9 columns]"
      ]
     },
     "execution_count": 54,
     "metadata": {},
     "output_type": "execute_result"
    }
   ],
   "source": [
    "PHEV_df = EV_raw_data[EV_raw_data.EV_Type== \"Plug-in Hybrid Electric Vehicle (PHEV)\"]\n",
    "PHEV_df"
   ]
  },
  {
   "cell_type": "markdown",
   "metadata": {},
   "source": [
    "## Breaking Down BEV's Per County"
   ]
  },
  {
   "cell_type": "code",
   "execution_count": 67,
   "metadata": {},
   "outputs": [
    {
     "ename": "TypeError",
     "evalue": "set_index() missing 1 required positional argument: 'keys'",
     "output_type": "error",
     "traceback": [
      "\u001b[1;31m---------------------------------------------------------------------------\u001b[0m",
      "\u001b[1;31mTypeError\u001b[0m                                 Traceback (most recent call last)",
      "\u001b[1;32m<ipython-input-67-c29c56f4ea82>\u001b[0m in \u001b[0;36m<module>\u001b[1;34m\u001b[0m\n\u001b[0;32m      1\u001b[0m \u001b[0mBEV_Per_County_df\u001b[0m \u001b[1;33m=\u001b[0m \u001b[0mBEV_df\u001b[0m\u001b[1;33m.\u001b[0m\u001b[0mgroupby\u001b[0m\u001b[1;33m(\u001b[0m\u001b[1;34m\"County\"\u001b[0m\u001b[1;33m)\u001b[0m\u001b[1;33m.\u001b[0m\u001b[0mMake\u001b[0m\u001b[1;33m.\u001b[0m\u001b[0mcount\u001b[0m\u001b[1;33m(\u001b[0m\u001b[1;33m)\u001b[0m\u001b[1;33m\u001b[0m\u001b[1;33m\u001b[0m\u001b[0m\n\u001b[0;32m      2\u001b[0m \u001b[0mBEV_Per_County_df\u001b[0m \u001b[1;33m=\u001b[0m \u001b[0mpd\u001b[0m\u001b[1;33m.\u001b[0m\u001b[0mDataFrame\u001b[0m\u001b[1;33m(\u001b[0m\u001b[0mBEV_Per_County_df\u001b[0m\u001b[1;33m)\u001b[0m\u001b[1;33m\u001b[0m\u001b[1;33m\u001b[0m\u001b[0m\n\u001b[1;32m----> 3\u001b[1;33m \u001b[0mBEV_Per_County_df\u001b[0m\u001b[1;33m.\u001b[0m\u001b[0mset_index\u001b[0m\u001b[1;33m(\u001b[0m\u001b[0mdrop\u001b[0m\u001b[1;33m=\u001b[0m\u001b[1;32mTrue\u001b[0m\u001b[1;33m)\u001b[0m\u001b[1;33m\u001b[0m\u001b[1;33m\u001b[0m\u001b[0m\n\u001b[0m\u001b[0;32m      4\u001b[0m \u001b[0mBEV_Per_County_df\u001b[0m\u001b[1;33m\u001b[0m\u001b[1;33m\u001b[0m\u001b[0m\n",
      "\u001b[1;31mTypeError\u001b[0m: set_index() missing 1 required positional argument: 'keys'"
     ]
    }
   ],
   "source": [
    "BEV_Per_County_df = BEV_df.groupby(\"County\").Make.count()\n",
    "BEV_Per_County_df = pd.DataFrame(BEV_Per_County_df)\n",
    "BEV_Per_County_df.set_index(drop=True)\n",
    "BEV_Per_County_df"
   ]
  },
  {
   "cell_type": "code",
   "execution_count": 59,
   "metadata": {},
   "outputs": [
    {
     "ename": "AttributeError",
     "evalue": "'Series' object has no attribute 'columns'",
     "output_type": "error",
     "traceback": [
      "\u001b[1;31m---------------------------------------------------------------------------\u001b[0m",
      "\u001b[1;31mAttributeError\u001b[0m                            Traceback (most recent call last)",
      "\u001b[1;32m<ipython-input-59-a421a3133763>\u001b[0m in \u001b[0;36m<module>\u001b[1;34m\u001b[0m\n\u001b[1;32m----> 1\u001b[1;33m \u001b[0mlist\u001b[0m\u001b[1;33m(\u001b[0m\u001b[0mBEV_Per_County_df\u001b[0m\u001b[1;33m.\u001b[0m\u001b[0mcolumns\u001b[0m\u001b[1;33m)\u001b[0m\u001b[1;33m\u001b[0m\u001b[1;33m\u001b[0m\u001b[0m\n\u001b[0m",
      "\u001b[1;32m~\\anaconda364\\envs\\PythonData\\lib\\site-packages\\pandas\\core\\generic.py\u001b[0m in \u001b[0;36m__getattr__\u001b[1;34m(self, name)\u001b[0m\n\u001b[0;32m   5268\u001b[0m             \u001b[1;32mor\u001b[0m \u001b[0mname\u001b[0m \u001b[1;32min\u001b[0m \u001b[0mself\u001b[0m\u001b[1;33m.\u001b[0m\u001b[0m_accessors\u001b[0m\u001b[1;33m\u001b[0m\u001b[1;33m\u001b[0m\u001b[0m\n\u001b[0;32m   5269\u001b[0m         ):\n\u001b[1;32m-> 5270\u001b[1;33m             \u001b[1;32mreturn\u001b[0m \u001b[0mobject\u001b[0m\u001b[1;33m.\u001b[0m\u001b[0m__getattribute__\u001b[0m\u001b[1;33m(\u001b[0m\u001b[0mself\u001b[0m\u001b[1;33m,\u001b[0m \u001b[0mname\u001b[0m\u001b[1;33m)\u001b[0m\u001b[1;33m\u001b[0m\u001b[1;33m\u001b[0m\u001b[0m\n\u001b[0m\u001b[0;32m   5271\u001b[0m         \u001b[1;32melse\u001b[0m\u001b[1;33m:\u001b[0m\u001b[1;33m\u001b[0m\u001b[1;33m\u001b[0m\u001b[0m\n\u001b[0;32m   5272\u001b[0m             \u001b[1;32mif\u001b[0m \u001b[0mself\u001b[0m\u001b[1;33m.\u001b[0m\u001b[0m_info_axis\u001b[0m\u001b[1;33m.\u001b[0m\u001b[0m_can_hold_identifiers_and_holds_name\u001b[0m\u001b[1;33m(\u001b[0m\u001b[0mname\u001b[0m\u001b[1;33m)\u001b[0m\u001b[1;33m:\u001b[0m\u001b[1;33m\u001b[0m\u001b[1;33m\u001b[0m\u001b[0m\n",
      "\u001b[1;31mAttributeError\u001b[0m: 'Series' object has no attribute 'columns'"
     ]
    }
   ],
   "source": []
  },
  {
   "cell_type": "code",
   "execution_count": null,
   "metadata": {},
   "outputs": [],
   "source": []
  },
  {
   "cell_type": "code",
   "execution_count": null,
   "metadata": {},
   "outputs": [],
   "source": [
    "# This program examines the eficacy in treating SCC tumors using several drug treatments including Capomulin\n",
    "# This analysis was completed by F. A. Barillas"
   ]
  },
  {
   "cell_type": "code",
   "execution_count": null,
   "metadata": {},
   "outputs": [],
   "source": [
    "# Checking the number of mice in the clean DataFrame.\n",
    "clean_study_results.duplicated(subset=['Mouse_ID','Timepoint']).sum()"
   ]
  },
  {
   "cell_type": "code",
   "execution_count": null,
   "metadata": {},
   "outputs": [],
   "source": [
    "len(clean_study_results['Mouse_ID'])"
   ]
  },
  {
   "cell_type": "code",
   "execution_count": null,
   "metadata": {},
   "outputs": [],
   "source": [
    "# Merge Mouse Data with Study Data\n",
    "clean_study_results = pd.merge(mouse_metadata, clean_study_results, how = \"left\", on = \"Mouse_ID\")\n",
    "clean_study_results"
   ]
  },
  {
   "cell_type": "markdown",
   "metadata": {},
   "source": [
    "# CLEAN STUDY RESULTS DATAFRAME WITHOUT DUPLICATES"
   ]
  },
  {
   "cell_type": "code",
   "execution_count": null,
   "metadata": {},
   "outputs": [],
   "source": [
    "clean_study_results.rename(columns={'Weight_(g)':'Weight_g', 'Tumor_Volume_(mm3)':'Tumor_Volume_mm3'}, inplace =True)\n",
    "clean_study_results"
   ]
  },
  {
   "cell_type": "code",
   "execution_count": null,
   "metadata": {},
   "outputs": [],
   "source": [
    "male_mice = (clean_study_results.Sex ==\"Male\").sum()\n",
    "male_mice\n"
   ]
  },
  {
   "cell_type": "code",
   "execution_count": null,
   "metadata": {},
   "outputs": [],
   "source": [
    "female_mice = (clean_study_results.Sex ==\"Female\").sum()\n",
    "female_mice\n"
   ]
  },
  {
   "cell_type": "markdown",
   "metadata": {},
   "source": [
    "## Summary Statistics"
   ]
  },
  {
   "cell_type": "code",
   "execution_count": null,
   "metadata": {},
   "outputs": [],
   "source": [
    "# Generate a summary statistics table of mean, median, variance, standard deviation, and SEM of the tumor volume for \n",
    "# each regimen\n",
    "\n",
    "# Use groupby and summary statistical methods to calculate the following properties of each drug regimen: \n",
    "# mean, median, variance, standard deviation, and SEM of the tumor volume. \n",
    "# Assemble the resulting series into a single summary dataframe.\n"
   ]
  },
  {
   "cell_type": "code",
   "execution_count": null,
   "metadata": {},
   "outputs": [],
   "source": [
    "# Generate a summary statistics table of mean, median, variance, standard deviation, and SEM of the tumor volume for \n",
    "# each regimen"
   ]
  },
  {
   "cell_type": "code",
   "execution_count": null,
   "metadata": {},
   "outputs": [],
   "source": [
    "# Undertanding Trials Per Regimen\n",
    "Trials_Per_Regimen = clean_study_results.groupby('Drug_Regimen').Drug_Regimen.count()\n"
   ]
  },
  {
   "cell_type": "code",
   "execution_count": null,
   "metadata": {},
   "outputs": [],
   "source": [
    "Mean_Tumor_Volume = clean_study_results.groupby('Drug_Regimen').Tumor_Volume_mm3.mean()\n"
   ]
  },
  {
   "cell_type": "code",
   "execution_count": null,
   "metadata": {},
   "outputs": [],
   "source": [
    "Median_Tumor_Volume = clean_study_results.groupby('Drug_Regimen').Tumor_Volume_mm3.median()\n"
   ]
  },
  {
   "cell_type": "code",
   "execution_count": null,
   "metadata": {},
   "outputs": [],
   "source": [
    "Variance_Tumor_Volume = clean_study_results.groupby('Drug_Regimen').Tumor_Volume_mm3.var()\n"
   ]
  },
  {
   "cell_type": "code",
   "execution_count": null,
   "metadata": {},
   "outputs": [],
   "source": [
    "StDev_Tumor_Volume = clean_study_results.groupby('Drug_Regimen').Tumor_Volume_mm3.std()\n"
   ]
  },
  {
   "cell_type": "code",
   "execution_count": null,
   "metadata": {},
   "outputs": [],
   "source": [
    "SEM_Tumor_Volume = clean_study_results.groupby('Drug_Regimen').Tumor_Volume_mm3.sem()\n"
   ]
  },
  {
   "cell_type": "code",
   "execution_count": null,
   "metadata": {},
   "outputs": [],
   "source": [
    "# Using the aggregation method, produce the same summary statistics in a single line\n",
    "summary_stats_df=pd.concat([Trials_Per_Regimen, Mean_Tumor_Volume, Median_Tumor_Volume, Variance_Tumor_Volume, StDev_Tumor_Volume, SEM_Tumor_Volume], axis =1)\n",
    "summary_stats_df.columns=['Trials','Average','Median','Variance','StDev','SEM']              \n"
   ]
  },
  {
   "cell_type": "code",
   "execution_count": null,
   "metadata": {
    "scrolled": true
   },
   "outputs": [],
   "source": [
    "summary_stats_df.reset_index(inplace = True)"
   ]
  },
  {
   "cell_type": "markdown",
   "metadata": {},
   "source": [
    "# SUMMARY STATISTICS BY DRUG REGIMEN"
   ]
  },
  {
   "cell_type": "code",
   "execution_count": null,
   "metadata": {},
   "outputs": [],
   "source": [
    "summary_stats_df"
   ]
  },
  {
   "cell_type": "markdown",
   "metadata": {},
   "source": [
    "## Bar and Pie Charts"
   ]
  },
  {
   "cell_type": "code",
   "execution_count": null,
   "metadata": {},
   "outputs": [],
   "source": [
    "# Generate a bar plot showing the total number of measurements taken on each drug regimen using pandas.\n",
    "\n"
   ]
  },
  {
   "cell_type": "code",
   "execution_count": null,
   "metadata": {},
   "outputs": [],
   "source": [
    "# Generate a bar plot showing the total number of measurements taken on each drug regimen using pyplot.\n",
    "summary_stats_df.sort_values('Trials', inplace = True, ascending = False)\n",
    "\n",
    "x_axis = summary_stats_df['Drug_Regimen']\n",
    "y_values=summary_stats_df['Trials']\n",
    "\n",
    "tick_locations = [value for value in x_axis]\n",
    "\n",
    "fig1 = plt.figure(figsize =(12,6))\n",
    "\n",
    "plt.bar(x_axis, y_values, color = 'b', alpha = 0.75, align = \"center\", width = 0.5)\n",
    "plt.title(\"Trials Per Drug Regimen\")\n",
    "plt.xlabel(\"Drug Regimen\")\n",
    "plt.ylabel(\"Number of Trials\")\n",
    "\n",
    "plt.xlim(-0.5, len(x_axis)-0.5)\n",
    "\n",
    "plt.grid(color='k', alpha = 0.15)\n",
    "plt.tight_layout(pad=0.8, w_pad=1.4, h_pad=1.0)\n"
   ]
  },
  {
   "cell_type": "code",
   "execution_count": null,
   "metadata": {},
   "outputs": [],
   "source": [
    "categories = [male_mice,female_mice]\n",
    "categories"
   ]
  },
  {
   "cell_type": "code",
   "execution_count": null,
   "metadata": {},
   "outputs": [],
   "source": [
    "# Generate a pie plot showing the distribution of female versus male mice using pyplot\n",
    "fig2 = plt.figure()\n",
    "fig2.suptitle('Mice Gender Split', fontsize = 14, fontweight = 'bold')\n",
    "\n",
    "\n",
    "labels = [\"Male Mice\", \"Female Mice\" ]\n",
    "categories = [male_mice, female_mice]\n",
    "colors = [\"y\",\"c\"]\n",
    "explode = (0.1,0)\n",
    "\n",
    "plt.pie(categories, explode, labels, colors, autopct='%1.1f%%', shadow= True, startangle = 45)\n",
    "plt.axis(\"Equal\")\n",
    "plt.tight_layout()\n",
    "plt.show()\n"
   ]
  },
  {
   "cell_type": "code",
   "execution_count": null,
   "metadata": {},
   "outputs": [],
   "source": [
    "# Generate a pie plot showing the distribution of female versus male mice using pandas\n",
    "\n"
   ]
  },
  {
   "cell_type": "markdown",
   "metadata": {},
   "source": [
    "## Quartiles, Outliers and Boxplots"
   ]
  },
  {
   "cell_type": "code",
   "execution_count": null,
   "metadata": {},
   "outputs": [],
   "source": [
    "# Calculate the final tumor volume of each mouse across four of the treatment regimens:  \n",
    "# Capomulin, Ramicane, Infubinol, and Ceftamin\n",
    "\n",
    "Capomulin_df = clean_study_results[clean_study_results.Drug_Regimen == \"Capomulin\"]\n",
    "Ramicane_df = clean_study_results[clean_study_results.Drug_Regimen == \"Ramicane\"]\n",
    "Infubinol_df = clean_study_results[clean_study_results.Drug_Regimen == \"Infubinol\"]\n",
    "Ceftamin_df = clean_study_results[clean_study_results.Drug_Regimen == \"Ceftamin\"]"
   ]
  },
  {
   "cell_type": "code",
   "execution_count": null,
   "metadata": {},
   "outputs": [],
   "source": []
  },
  {
   "cell_type": "code",
   "execution_count": null,
   "metadata": {},
   "outputs": [],
   "source": []
  },
  {
   "cell_type": "code",
   "execution_count": null,
   "metadata": {},
   "outputs": [],
   "source": [
    "# Start by getting the last (greatest) timepoint for each mouse\n",
    "\n",
    "\n",
    "# Merge this group df with the original dataframe to get the tumor volume at the last timepoint"
   ]
  },
  {
   "cell_type": "code",
   "execution_count": null,
   "metadata": {},
   "outputs": [],
   "source": [
    "# Put treatments into a list for for loop (and later for plot labels)\n",
    "\n",
    "\n",
    "# Create empty list to fill with tumor vol data (for plotting)\n",
    "\n",
    "\n",
    "# Calculate the IQR and quantitatively determine if there are any potential outliers. \n",
    "\n",
    "    \n",
    "    # Locate the rows which contain mice on each drug and get the tumor volumes\n",
    "    \n",
    "    \n",
    "    # add subset \n",
    "    \n",
    "    \n",
    "    # Determine outliers using upper and lower bounds\n",
    "    "
   ]
  },
  {
   "cell_type": "code",
   "execution_count": null,
   "metadata": {},
   "outputs": [],
   "source": [
    "# Generate a box plot of the final tumor volume of each mouse across four regimens of interest\n"
   ]
  },
  {
   "cell_type": "markdown",
   "metadata": {},
   "source": [
    "## Line and Scatter Plots"
   ]
  },
  {
   "cell_type": "code",
   "execution_count": null,
   "metadata": {},
   "outputs": [],
   "source": [
    "# Generate a line plot of tumor volume vs. time point for a mouse treated with Capomulin\n"
   ]
  },
  {
   "cell_type": "code",
   "execution_count": null,
   "metadata": {},
   "outputs": [],
   "source": [
    "# Generate a scatter plot of average tumor volume vs. mouse weight for the Capomulin regimen\n"
   ]
  },
  {
   "cell_type": "markdown",
   "metadata": {},
   "source": [
    "## Correlation and Regression"
   ]
  },
  {
   "cell_type": "code",
   "execution_count": null,
   "metadata": {},
   "outputs": [],
   "source": [
    "# Calculate the correlation coefficient and linear regression model \n",
    "# for mouse weight and average tumor volume for the Capomulin regimen\n"
   ]
  },
  {
   "cell_type": "code",
   "execution_count": null,
   "metadata": {},
   "outputs": [],
   "source": []
  }
 ],
 "metadata": {
  "anaconda-cloud": {},
  "kernelspec": {
   "display_name": "Python [conda env:PythonData] *",
   "language": "python",
   "name": "conda-env-PythonData-py"
  },
  "language_info": {
   "codemirror_mode": {
    "name": "ipython",
    "version": 3
   },
   "file_extension": ".py",
   "mimetype": "text/x-python",
   "name": "python",
   "nbconvert_exporter": "python",
   "pygments_lexer": "ipython3",
   "version": "3.6.10"
  }
 },
 "nbformat": 4,
 "nbformat_minor": 4
}
